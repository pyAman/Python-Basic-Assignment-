{
 "cells": [
  {
   "cell_type": "markdown",
   "metadata": {},
   "source": [
    "# Python Basic assignment 3\n"
   ]
  },
  {
   "cell_type": "raw",
   "metadata": {},
   "source": [
    "1. Function advantages are as following:\n",
    "1. It reduce length of entire program.\n",
    "2. Debugging become easier\n",
    "3. Readability of code improves\n",
    "4. Reuseability of code \n"
   ]
  },
  {
   "cell_type": "raw",
   "metadata": {},
   "source": [
    "2. Code in fuction runs fun it is called not when it is specified."
   ]
  },
  {
   "cell_type": "raw",
   "metadata": {},
   "source": [
    "3. Functions are created with help of def keyword. Syntax of function in python is as follows:\n",
    "\n",
    "def function_name(parameter(s) list):"
   ]
  },
  {
   "cell_type": "raw",
   "metadata": {},
   "source": [
    "4. Function: Function is block of code which is written to accomplish a particular task. When all the functions are abolished program ends. \n",
    "Every function has a particular scope.\n",
    "\n",
    "Function call: function call is statements which is use to invoke a fuction. When function call is made function comes in active state and start performing it's task."
   ]
  },
  {
   "cell_type": "raw",
   "metadata": {},
   "source": [
    "5. There is single global and local scope in programming language. If a variable is declared globally it can be accessed throughout the program, but if it is declared within a scope it will be accessible within that scope only."
   ]
  },
  {
   "cell_type": "raw",
   "metadata": {},
   "source": [
    "6. When the function call returns all the local variables dies as their scope ends."
   ]
  },
  {
   "cell_type": "raw",
   "metadata": {},
   "source": [
    "7. Return value concept is that, if a function is declared for calculating an expression or completion of a task and it's value is required at invokation step we use return statement.\n",
    "\n",
    "Yes, from an expression we can have return value."
   ]
  },
  {
   "cell_type": "markdown",
   "metadata": {},
   "source": [
    "8.It won't return anything."
   ]
  },
  {
   "cell_type": "raw",
   "metadata": {},
   "source": [
    "9. If variable is declared in global scope it becomes global variable and if we mention global keyword before any variable it beocome global."
   ]
  },
  {
   "cell_type": "raw",
   "metadata": {},
   "source": [
    "10. Data type of none is none."
   ]
  },
  {
   "cell_type": "raw",
   "metadata": {},
   "source": [
    "11. Told to ignore this question"
   ]
  },
  {
   "cell_type": "raw",
   "metadata": {},
   "source": [
    "12. "
   ]
  },
  {
   "cell_type": "raw",
   "metadata": {},
   "source": [
    "13. If error is expected in any part of program we can mention that code in try clause scope, with that programing crashing can be avoided."
   ]
  },
  {
   "cell_type": "raw",
   "metadata": {},
   "source": [
    "14. If we are expected that due to any user input there can be any exception can be generated or program can be crashed then we use to code that part in try clause. \n",
    "\n",
    "The generated exception or error is caught in except clause.\n",
    "\n",
    "Combination of both helps in avoiding program crash."
   ]
  },
  {
   "cell_type": "code",
   "execution_count": null,
   "metadata": {},
   "outputs": [],
   "source": []
  },
  {
   "cell_type": "code",
   "execution_count": null,
   "metadata": {},
   "outputs": [],
   "source": []
  }
 ],
 "metadata": {
  "kernelspec": {
   "display_name": "Python 3",
   "language": "python",
   "name": "python3"
  },
  "language_info": {
   "codemirror_mode": {
    "name": "ipython",
    "version": 3
   },
   "file_extension": ".py",
   "mimetype": "text/x-python",
   "name": "python",
   "nbconvert_exporter": "python",
   "pygments_lexer": "ipython3",
   "version": "3.8.5"
  }
 },
 "nbformat": 4,
 "nbformat_minor": 4
}
