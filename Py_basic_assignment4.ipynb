{
 "cells": [
  {
   "cell_type": "markdown",
   "metadata": {},
   "source": [
    "# Python Assignment 4\n"
   ]
  },
  {
   "cell_type": "code",
   "execution_count": 4,
   "metadata": {},
   "outputs": [],
   "source": [
    "# 1. This is list.\n"
   ]
  },
  {
   "cell_type": "code",
   "execution_count": 17,
   "metadata": {},
   "outputs": [
    {
     "data": {
      "text/plain": [
       "[2, 4, 'hello', 6, 8, 10]"
      ]
     },
     "execution_count": 17,
     "metadata": {},
     "output_type": "execute_result"
    }
   ],
   "source": [
    "#2.spam=[2, 4, 6, 8, 10]\n",
    "#hello as 3rd value.\n",
    "spam=[2, 4, 6, 8, 10]\n",
    "spam.insert(2,'hello')\n",
    "spam\n"
   ]
  },
  {
   "cell_type": "code",
   "execution_count": 24,
   "metadata": {},
   "outputs": [
    {
     "ename": "TypeError",
     "evalue": "insert expected 2 arguments, got 0",
     "output_type": "error",
     "traceback": [
      "\u001b[1;31m---------------------------------------------------------------------------\u001b[0m",
      "\u001b[1;31mTypeError\u001b[0m                                 Traceback (most recent call last)",
      "\u001b[1;32m<ipython-input-24-cde835a179ba>\u001b[0m in \u001b[0;36m<module>\u001b[1;34m\u001b[0m\n\u001b[0;32m      4\u001b[0m \u001b[1;31m#4. 10\u001b[0m\u001b[1;33m\u001b[0m\u001b[1;33m\u001b[0m\u001b[1;33m\u001b[0m\u001b[0m\n\u001b[0;32m      5\u001b[0m \u001b[1;31m#5.[2,4]\u001b[0m\u001b[1;33m\u001b[0m\u001b[1;33m\u001b[0m\u001b[1;33m\u001b[0m\u001b[0m\n\u001b[1;32m----> 6\u001b[1;33m \u001b[0mspam\u001b[0m\u001b[1;33m.\u001b[0m\u001b[0minsert\u001b[0m\u001b[1;33m(\u001b[0m\u001b[1;33m)\u001b[0m\u001b[1;33m\u001b[0m\u001b[1;33m\u001b[0m\u001b[0m\n\u001b[0m",
      "\u001b[1;31mTypeError\u001b[0m: insert expected 2 arguments, got 0"
     ]
    }
   ],
   "source": [
    "spam=[2, 4, 6, 8, 10]\n",
    "spam[int(int('3'* 2) / 11)]\n",
    "#3. 8\n",
    "#4. 10\n",
    "#5.[2,4]"
   ]
  },
  {
   "cell_type": "code",
   "execution_count": 19,
   "metadata": {},
   "outputs": [],
   "source": [
    "bacon=[3.14,'cat',11,'cat',True]\n",
    "#6. bacon.index('cat')  => o/p 1\n",
    "#7. bacon.append(99) new list will be =>[3.14,'cat',11,'cat',True,99]\n",
    "#8. bacon.remove('cat') new list(corresponding to original list) => [3.14,11,'cat',True]\n"
   ]
  },
  {
   "cell_type": "code",
   "execution_count": null,
   "metadata": {},
   "outputs": [],
   "source": [
    "#9. For concatenation and replication operation + and * operator is used respectively.\n"
   ]
  },
  {
   "cell_type": "code",
   "execution_count": 25,
   "metadata": {},
   "outputs": [],
   "source": [
    "#10. The main difference between append() and insert()  operation is that append() add data at tail position it is fixed for append but in case of insert we can insert data at desired position. \n",
    "# Their syntical difference is append takes single argument where as insert takes two argument. \n",
    "#list.append(data to insert) list.insert(index value, data to insert)\n"
   ]
  },
  {
   "cell_type": "code",
   "execution_count": 26,
   "metadata": {},
   "outputs": [],
   "source": [
    "#11. Two method used to remove element from list are: \n",
    "#1. pop()\n",
    "#2. remove()\n"
   ]
  },
  {
   "cell_type": "code",
   "execution_count": 27,
   "metadata": {},
   "outputs": [],
   "source": [
    "#12. List and String values are identical in term of their positioning index. In both case values are stored by index.\n",
    "#Another important difference is that both values are immutable. Once assigned value can't be altered it can just be overwrite to new values\n"
   ]
  },
  {
   "cell_type": "code",
   "execution_count": 28,
   "metadata": {},
   "outputs": [],
   "source": [
    "#13. The biggest difference between tuple() and list[] is that immutable and mutable. Once assigned value to tuple() can't be changed while assigned value to list[] can be mutable.\n",
    "# The inbulit function of list[] is comparetively higher than tuple().\n",
    "#List is good for mutliple operation where alteration of data is required like data manuplation, updation in values, meanwhile tuple() is good when we have to use fixed(immutable) data like password, email id.\n",
    "#List is dynamic whereas tuple is static "
   ]
  },
  {
   "cell_type": "code",
   "execution_count": 35,
   "metadata": {},
   "outputs": [
    {
     "data": {
      "text/plain": [
       "tuple"
      ]
     },
     "execution_count": 35,
     "metadata": {},
     "output_type": "execute_result"
    }
   ],
   "source": [
    "#14\n",
    "tup=(42,)\n",
    "type(tup)"
   ]
  },
  {
   "cell_type": "code",
   "execution_count": 40,
   "metadata": {},
   "outputs": [
    {
     "name": "stdout",
     "output_type": "stream",
     "text": [
      "<class 'tuple'>\n"
     ]
    },
    {
     "data": {
      "text/plain": [
       "['password', '3sfs3@', 7]"
      ]
     },
     "execution_count": 40,
     "metadata": {},
     "output_type": "execute_result"
    }
   ],
   "source": [
    "#15.\n",
    "l=[43,34,5,2,'ffsd',390]\n",
    "tuple(l)\n",
    "\n",
    "t=('password','3sfs3@',7)\n",
    "print(type(t))\n",
    "list(t)"
   ]
  },
  {
   "cell_type": "code",
   "execution_count": 41,
   "metadata": {},
   "outputs": [],
   "source": [
    "#16. Problem in question \n"
   ]
  },
  {
   "cell_type": "code",
   "execution_count": null,
   "metadata": {},
   "outputs": [],
   "source": [
    "#17. copy.copy(): It is also known as shallow copy. In shallow copy not orignal object but their reference are stored in new object.\n",
    "#copy.deep(): This is also known as deep copy, here copies of actual object are stored in new object. "
   ]
  }
 ],
 "metadata": {
  "kernelspec": {
   "display_name": "Python 3",
   "language": "python",
   "name": "python3"
  },
  "language_info": {
   "codemirror_mode": {
    "name": "ipython",
    "version": 3
   },
   "file_extension": ".py",
   "mimetype": "text/x-python",
   "name": "python",
   "nbconvert_exporter": "python",
   "pygments_lexer": "ipython3",
   "version": "3.8.5"
  }
 },
 "nbformat": 4,
 "nbformat_minor": 4
}
