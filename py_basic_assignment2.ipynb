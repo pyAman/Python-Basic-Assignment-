{
 "cells": [
  {
   "cell_type": "markdown",
   "metadata": {},
   "source": [
    " # Python Assignment 2"
   ]
  },
  {
   "cell_type": "code",
   "execution_count": 1,
   "metadata": {},
   "outputs": [
    {
     "ename": "SyntaxError",
     "evalue": "invalid syntax (<ipython-input-1-dfcfacbaee51>, line 1)",
     "output_type": "error",
     "traceback": [
      "\u001b[1;36m  File \u001b[1;32m\"<ipython-input-1-dfcfacbaee51>\"\u001b[1;36m, line \u001b[1;32m1\u001b[0m\n\u001b[1;33m    1. True or false\u001b[0m\n\u001b[1;37m       ^\u001b[0m\n\u001b[1;31mSyntaxError\u001b[0m\u001b[1;31m:\u001b[0m invalid syntax\n"
     ]
    }
   ],
   "source": [
    "1. True or false \n",
    " 0 or 1 \n",
    "    These two values are of boolean data type. We can write them by:\n",
    "        bool_var=0\n",
    "        bool_var=1\n",
    "         or\n",
    "        bool_var=True\n",
    "        bool_var=False"
   ]
  },
  {
   "cell_type": "code",
   "execution_count": 2,
   "metadata": {},
   "outputs": [
    {
     "ename": "SyntaxError",
     "evalue": "invalid syntax (<ipython-input-2-21e54b1bae0e>, line 1)",
     "output_type": "error",
     "traceback": [
      "\u001b[1;36m  File \u001b[1;32m\"<ipython-input-2-21e54b1bae0e>\"\u001b[1;36m, line \u001b[1;32m1\u001b[0m\n\u001b[1;33m    2. Three boolean operators are:\u001b[0m\n\u001b[1;37m       ^\u001b[0m\n\u001b[1;31mSyntaxError\u001b[0m\u001b[1;31m:\u001b[0m invalid syntax\n"
     ]
    }
   ],
   "source": [
    "2. Three boolean operators are:\n",
    "    and\n",
    "    or \n",
    "    not"
   ]
  },
  {
   "cell_type": "code",
   "execution_count": null,
   "metadata": {},
   "outputs": [],
   "source": [
    "3. Truth table of boolean operator\n",
    "\n",
    "And:\n",
    "    a b a and b\n",
    "    0 0    0\n",
    "    0 1    0\n",
    "    1 0    0\n",
    "    1 1    1\n",
    "    \n",
    "or:\n",
    "    a b a or b\n",
    "    0 0    0\n",
    "    0 1    1\n",
    "    1 0    1\n",
    "    1 1    1\n",
    "    \n",
    "not: \n",
    "    a `a \n",
    "    0  1   \n",
    "    0  1\n",
    "    1  1\n",
    "    1  0  "
   ]
  },
  {
   "cell_type": "code",
   "execution_count": null,
   "metadata": {},
   "outputs": [],
   "source": [
    "4. (5>4) and (3==5)\n",
    "    o/p: False\n",
    "    not(5>4)\n",
    "    o/p: False\n",
    "    (5>4) or (3==5)\n",
    "    o/p: True\n",
    "    not((5>4) or (3==5))\n",
    "    o/p: False\n",
    "    (True and Ture)and (True== False)\n",
    "    o/p: False\n",
    "    (not False ) or (not True)\n",
    "    True"
   ]
  },
  {
   "cell_type": "code",
   "execution_count": null,
   "metadata": {},
   "outputs": [],
   "source": [
    "5. 6 comparision operators are as follows:\n",
    "    1. ==\n",
    "    2. !=\n",
    "    3. >\n",
    "    4. >=\n",
    "    5. <\n",
    "    6. >="
   ]
  },
  {
   "cell_type": "code",
   "execution_count": null,
   "metadata": {},
   "outputs": [],
   "source": [
    "6. 6.In equal operator we use double equal sign where as in assignment opertor\n",
    "we use single operator sign.\n",
    "Equal to operator: ==\n",
    "Assignment operator: =\n",
    "    \n",
    "    When we have to assign a value to a variable we have to use assignment operator \n",
    "    value =7\n",
    "    When we have to check equality of two or more than two variable we have to use \n",
    "    == sign \n",
    "    if(7==7)"
   ]
  },
  {
   "cell_type": "code",
   "execution_count": null,
   "metadata": {},
   "outputs": [],
   "source": [
    "7. Code with three block is:\n",
    "    spam = 0\n",
    "if spam == 10:\n",
    "    print(&#39;eggs&#39;)\n",
    "if spam &gt; 5:\n",
    "    print(&#39;bacon&#39;)\n",
    "else:\n",
    "    print(&#39;ham&#39;)\n",
    "    print(&#39;spam&#39;)\n",
    "    print(&#39;spam&#39;)"
   ]
  },
  {
   "cell_type": "code",
   "execution_count": 5,
   "metadata": {},
   "outputs": [
    {
     "name": "stdout",
     "output_type": "stream",
     "text": [
      "Enter a value1\n",
      "spam\n"
     ]
    }
   ],
   "source": [
    "#8\n",
    "spam=int(input(\"Enter a value\"))\n",
    "\n",
    "if spam==1:\n",
    "    print('spam')\n",
    "elif spam==2:\n",
    "    print('Howdy')\n",
    "else:\n",
    "    print('Greeting')"
   ]
  },
  {
   "cell_type": "code",
   "execution_count": null,
   "metadata": {},
   "outputs": [],
   "source": [
    "9. To come out of infinite loop \n",
    "ctrl+c \n",
    "is pressed"
   ]
  },
  {
   "cell_type": "code",
   "execution_count": null,
   "metadata": {},
   "outputs": [],
   "source": [
    "10. 10. break: This statement is used to come out  of loop.\n",
    "    continue: This statement is used when we dont have to proceed further in give iteration and compiler switch to next iteration without executing further lines"
   ]
  },
  {
   "cell_type": "code",
   "execution_count": null,
   "metadata": {},
   "outputs": [],
   "source": [
    "11. There is no difference in terms of iteration in all three."
   ]
  },
  {
   "cell_type": "code",
   "execution_count": null,
   "metadata": {},
   "outputs": [],
   "source": [
    "# 12\n",
    "for i in range(1,11):\n",
    "    print(i,end=\" \")\n",
    "\n",
    "j=1\n",
    "while j<11:\n",
    "    print(j, end=\" \")\n",
    "    j=j+1"
   ]
  },
  {
   "cell_type": "code",
   "execution_count": null,
   "metadata": {},
   "outputs": [],
   "source": []
  },
  {
   "cell_type": "code",
   "execution_count": null,
   "metadata": {},
   "outputs": [],
   "source": []
  }
 ],
 "metadata": {
  "kernelspec": {
   "display_name": "Python 3",
   "language": "python",
   "name": "python3"
  },
  "language_info": {
   "codemirror_mode": {
    "name": "ipython",
    "version": 3
   },
   "file_extension": ".py",
   "mimetype": "text/x-python",
   "name": "python",
   "nbconvert_exporter": "python",
   "pygments_lexer": "ipython3",
   "version": "3.8.5"
  }
 },
 "nbformat": 4,
 "nbformat_minor": 4
}
