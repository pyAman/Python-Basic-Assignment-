{
 "cells": [
  {
   "cell_type": "markdown",
   "metadata": {},
   "source": [
    "# Python Basic Assignment1\n",
    "\n"
   ]
  },
  {
   "cell_type": "code",
   "execution_count": 2,
   "metadata": {},
   "outputs": [],
   "source": []
  },
  {
   "cell_type": "code",
   "execution_count": 4,
   "metadata": {},
   "outputs": [
    {
     "ename": "SyntaxError",
     "evalue": "invalid syntax (<ipython-input-4-50c4e631affc>, line 1)",
     "output_type": "error",
     "traceback": [
      "\u001b[1;36m  File \u001b[1;32m\"<ipython-input-4-50c4e631affc>\"\u001b[1;36m, line \u001b[1;32m1\u001b[0m\n\u001b[1;33m    1. Expressions: *,-,/,+\u001b[0m\n\u001b[1;37m       ^\u001b[0m\n\u001b[1;31mSyntaxError\u001b[0m\u001b[1;31m:\u001b[0m invalid syntax\n"
     ]
    }
   ],
   "source": [
    "1. Expressions: *,-,/,+\n",
    "    Value: 'hello', -87.8,6"
   ]
  },
  {
   "cell_type": "code",
   "execution_count": null,
   "metadata": {},
   "outputs": [],
   "source": [
    "2. String vs variable \n",
    "String is a data type where as variable is name of occupied memory cell(s) in RAM.\n",
    "It is mandatory to write string either in '' or \"\" where as it depends on value of variable how to write it.\n",
    "Size of string is fixed and size of variable is depent on its data type value"
   ]
  },
  {
   "cell_type": "code",
   "execution_count": null,
   "metadata": {},
   "outputs": [],
   "source": [
    "3. \n",
    "i) int:    int is a interger data type which is use to hold integer. It's size is either 4B or 8B depending on system architecture.\n",
    "ii)string: string is data type which is used to hold sequence of character under single name. Stirng has to either write in '' or \" \"\n",
    "iii)bool:  bool data type is used to hold single value either true or false/0 or 1."
   ]
  },
  {
   "cell_type": "code",
   "execution_count": null,
   "metadata": {},
   "outputs": [],
   "source": [
    "4. Expression is combination of operand and operators. \n",
    "ex: 33+43(3^2)*30\n",
    "    Mathematical operations will take place according to BODMAS rule.\n",
    "    Expression are used for calculation of a particular variable value, for further operation or saving of data.\n",
    "        "
   ]
  },
  {
   "cell_type": "code",
   "execution_count": null,
   "metadata": {},
   "outputs": [],
   "source": [
    "5. Expressions are used to perform some actions to calcultae a value. It is combination of operator and operand. On the other hand statements are just a piece of code or a part of code which won't perform any mathematical operations. \n"
   ]
  },
  {
   "cell_type": "code",
   "execution_count": 7,
   "metadata": {},
   "outputs": [
    {
     "data": {
      "text/plain": [
       "2"
      ]
     },
     "execution_count": 7,
     "metadata": {},
     "output_type": "execute_result"
    }
   ],
   "source": [
    "6. 22\n",
    "bacon value will be 22"
   ]
  },
  {
   "cell_type": "code",
   "execution_count": null,
   "metadata": {},
   "outputs": [],
   "source": [
    "7.'spam'+'spamsapam'= \"spamspamspam\" #three times spam\n",
    "'spam'*3= 'spamspamspam'"
   ]
  },
  {
   "cell_type": "code",
   "execution_count": null,
   "metadata": {},
   "outputs": [],
   "source": [
    "8. eggs is valid variable because it is following all naming convention where 100 is invlaid, because as per naming convention variable name cant'be start from numeric value"
   ]
  },
  {
   "cell_type": "code",
   "execution_count": null,
   "metadata": {},
   "outputs": [],
   "source": [
    "9. \n",
    "   Integer: int()\n",
    "   floating-point: float()\n",
    "   string: str()"
   ]
  },
  {
   "cell_type": "code",
   "execution_count": null,
   "metadata": {},
   "outputs": [],
   "source": [
    "10.This expression cause error due to addition of string with interger which is not possible.\n",
    "Alter the expression as to fix it: 'i have eaten'+'99'+'burritos'"
   ]
  }
 ],
 "metadata": {
  "kernelspec": {
   "display_name": "Python 3",
   "language": "python",
   "name": "python3"
  },
  "language_info": {
   "codemirror_mode": {
    "name": "ipython",
    "version": 3
   },
   "file_extension": ".py",
   "mimetype": "text/x-python",
   "name": "python",
   "nbconvert_exporter": "python",
   "pygments_lexer": "ipython3",
   "version": "3.8.5"
  }
 },
 "nbformat": 4,
 "nbformat_minor": 4
}
